{
 "metadata": {
  "language_info": {
   "codemirror_mode": {
    "name": "ipython",
    "version": 3
   },
   "file_extension": ".py",
   "mimetype": "text/x-python",
   "name": "python",
   "nbconvert_exporter": "python",
   "pygments_lexer": "ipython3",
   "version": "3.9.0"
  },
  "orig_nbformat": 4,
  "kernelspec": {
   "name": "python3",
   "display_name": "Python 3.9.0 64-bit ('tf-gpu2.5': conda)"
  },
  "interpreter": {
   "hash": "6c625828b77ad69db161d06953a2c7e3170304e7523cf94b0d29bd6c924bbe8d"
  }
 },
 "nbformat": 4,
 "nbformat_minor": 2,
 "cells": [
  {
   "cell_type": "code",
   "execution_count": 1,
   "metadata": {},
   "outputs": [],
   "source": [
    "import pandas as pd \n",
    "import numpy as np \n",
    "import matplotlib.pyplot as plt \n",
    "import seaborn as sns\n",
    "import itertools\n",
    "import warnings\n",
    "\n",
    "warnings.filterwarnings('ignore')"
   ]
  },
  {
   "cell_type": "code",
   "execution_count": 2,
   "metadata": {},
   "outputs": [],
   "source": [
    "# test_df = pd.read_csv(\"bikerslogistics/test.csv\")\n",
    "df = pd.read_csv(\"bikerslogistics/train.csv\")"
   ]
  },
  {
   "cell_type": "code",
   "execution_count": 3,
   "metadata": {},
   "outputs": [
    {
     "output_type": "execute_result",
     "data": {
      "text/plain": [
       "                                                           0                1  \\\n",
       "User_ID                                      UserLogger_7277  UserLogger_1281   \n",
       "Tranport_Vehicle                                  Motorcycle       Motorcycle   \n",
       "Platform                                                  P3               P3   \n",
       "Purpose                                           Commercial       Commercial   \n",
       "Order_Day_of_Month                                        27               25   \n",
       "Order_Week_of_Month                                        1                1   \n",
       "Time_of_Order                                     9:18:22 AM      12:07:04 PM   \n",
       "Order_Confirm_Day_of_Month                                27               25   \n",
       "Order_Confirm_Day_of_Weekday                               1                1   \n",
       "Time_of_Confirmation                              9:18:42 AM      12:08:36 PM   \n",
       "Arrival_At_Pickup_MonthDay                                27               25   \n",
       "Arrival_At_Pickup_Weekday                                  1                1   \n",
       "Arrival_at_Pickup_Time                            9:46:23 AM      12:41:16 PM   \n",
       "Pickup_MonthDay                                           27               25   \n",
       "Pickup_WeekDay                                             1                1   \n",
       "Pickup_Time                                       9:48:02 AM      12:45:15 PM   \n",
       "Delivery_MonthDay                                         27               25   \n",
       "Delivery_Weekday                                           1                1   \n",
       "Delivery_Time                                    10:11:30 AM       1:02:09 PM   \n",
       "DistanceCovered_KM                                         6                9   \n",
       "Temperation                                             20.9             29.9   \n",
       "Precipitation_in_millimeters                             1.0              NaN   \n",
       "Latitude_Pickup                                    -1.285772        -1.229148   \n",
       "Longitude_Pickup                                   36.808806        36.844029   \n",
       "Latitude_Destination                                -1.29631        -1.252492   \n",
       "Longitude_Destination                              36.768822         36.86562   \n",
       "Time_Elapsed_from_Pickup_to_Delivery_in_Min            23.47             16.9   \n",
       "\n",
       "                                                           2  \\\n",
       "User_ID                                      UserLogger_2566   \n",
       "Tranport_Vehicle                                  Motorcycle   \n",
       "Platform                                                  P3   \n",
       "Purpose                                           Commercial   \n",
       "Order_Day_of_Month                                        12   \n",
       "Order_Week_of_Month                                        6   \n",
       "Time_of_Order                                     1:20:11 PM   \n",
       "Order_Confirm_Day_of_Month                                12   \n",
       "Order_Confirm_Day_of_Weekday                               6   \n",
       "Time_of_Confirmation                              1:34:44 PM   \n",
       "Arrival_At_Pickup_MonthDay                                12   \n",
       "Arrival_At_Pickup_Weekday                                  6   \n",
       "Arrival_at_Pickup_Time                            1:54:51 PM   \n",
       "Pickup_MonthDay                                           12   \n",
       "Pickup_WeekDay                                             6   \n",
       "Pickup_Time                                       1:58:20 PM   \n",
       "Delivery_MonthDay                                         12   \n",
       "Delivery_Weekday                                           6   \n",
       "Delivery_Time                                     2:20:10 PM   \n",
       "DistanceCovered_KM                                         9   \n",
       "Temperation                                             28.5   \n",
       "Precipitation_in_millimeters                             NaN   \n",
       "Latitude_Pickup                                    -1.318062   \n",
       "Longitude_Pickup                                   36.849326   \n",
       "Latitude_Destination                               -1.265715   \n",
       "Longitude_Destination                              36.823815   \n",
       "Time_Elapsed_from_Pickup_to_Delivery_in_Min            21.83   \n",
       "\n",
       "                                                            3  \\\n",
       "User_ID                                      UserLogger_11805   \n",
       "Tranport_Vehicle                                   Motorcycle   \n",
       "Platform                                                   P3   \n",
       "Purpose                                            Commercial   \n",
       "Order_Day_of_Month                                         28   \n",
       "Order_Week_of_Month                                         4   \n",
       "Time_of_Order                                     11:13:53 AM   \n",
       "Order_Confirm_Day_of_Month                                 28   \n",
       "Order_Confirm_Day_of_Weekday                                4   \n",
       "Time_of_Confirmation                              11:14:07 AM   \n",
       "Arrival_At_Pickup_MonthDay                                 28   \n",
       "Arrival_At_Pickup_Weekday                                   4   \n",
       "Arrival_at_Pickup_Time                            11:25:32 AM   \n",
       "Pickup_MonthDay                                            28   \n",
       "Pickup_WeekDay                                              4   \n",
       "Pickup_Time                                       11:53:20 AM   \n",
       "Delivery_MonthDay                                          28   \n",
       "Delivery_Weekday                                            4   \n",
       "Delivery_Time                                     11:53:23 AM   \n",
       "DistanceCovered_KM                                          9   \n",
       "Temperation                                              26.8   \n",
       "Precipitation_in_millimeters                              NaN   \n",
       "Latitude_Pickup                                     -1.263818   \n",
       "Longitude_Pickup                                    36.793006   \n",
       "Latitude_Destination                                -1.300406   \n",
       "Longitude_Destination                               36.829741   \n",
       "Time_Elapsed_from_Pickup_to_Delivery_in_Min              0.05   \n",
       "\n",
       "                                                            4  \n",
       "User_ID                                      UserLogger_15199  \n",
       "Tranport_Vehicle                                   Motorcycle  \n",
       "Platform                                                   P3  \n",
       "Purpose                                            Commercial  \n",
       "Order_Day_of_Month                                         12  \n",
       "Order_Week_of_Month                                         2  \n",
       "Time_of_Order                                      1:41:02 PM  \n",
       "Order_Confirm_Day_of_Month                                 12  \n",
       "Order_Confirm_Day_of_Weekday                                2  \n",
       "Time_of_Confirmation                               1:41:57 PM  \n",
       "Arrival_At_Pickup_MonthDay                                 12  \n",
       "Arrival_At_Pickup_Weekday                                   2  \n",
       "Arrival_at_Pickup_Time                             2:40:49 PM  \n",
       "Pickup_MonthDay                                            12  \n",
       "Pickup_WeekDay                                              2  \n",
       "Pickup_Time                                        2:45:15 PM  \n",
       "Delivery_MonthDay                                          12  \n",
       "Delivery_Weekday                                            2  \n",
       "Delivery_Time                                      3:12:49 PM  \n",
       "DistanceCovered_KM                                          7  \n",
       "Temperation                                              30.1  \n",
       "Precipitation_in_millimeters                              NaN  \n",
       "Latitude_Pickup                                     -1.263813  \n",
       "Longitude_Pickup                                    36.784977  \n",
       "Latitude_Destination                                -1.294875  \n",
       "Longitude_Destination                               36.793891  \n",
       "Time_Elapsed_from_Pickup_to_Delivery_in_Min             27.57  "
      ],
      "text/html": "<div>\n<style scoped>\n    .dataframe tbody tr th:only-of-type {\n        vertical-align: middle;\n    }\n\n    .dataframe tbody tr th {\n        vertical-align: top;\n    }\n\n    .dataframe thead th {\n        text-align: right;\n    }\n</style>\n<table border=\"1\" class=\"dataframe\">\n  <thead>\n    <tr style=\"text-align: right;\">\n      <th></th>\n      <th>0</th>\n      <th>1</th>\n      <th>2</th>\n      <th>3</th>\n      <th>4</th>\n    </tr>\n  </thead>\n  <tbody>\n    <tr>\n      <th>User_ID</th>\n      <td>UserLogger_7277</td>\n      <td>UserLogger_1281</td>\n      <td>UserLogger_2566</td>\n      <td>UserLogger_11805</td>\n      <td>UserLogger_15199</td>\n    </tr>\n    <tr>\n      <th>Tranport_Vehicle</th>\n      <td>Motorcycle</td>\n      <td>Motorcycle</td>\n      <td>Motorcycle</td>\n      <td>Motorcycle</td>\n      <td>Motorcycle</td>\n    </tr>\n    <tr>\n      <th>Platform</th>\n      <td>P3</td>\n      <td>P3</td>\n      <td>P3</td>\n      <td>P3</td>\n      <td>P3</td>\n    </tr>\n    <tr>\n      <th>Purpose</th>\n      <td>Commercial</td>\n      <td>Commercial</td>\n      <td>Commercial</td>\n      <td>Commercial</td>\n      <td>Commercial</td>\n    </tr>\n    <tr>\n      <th>Order_Day_of_Month</th>\n      <td>27</td>\n      <td>25</td>\n      <td>12</td>\n      <td>28</td>\n      <td>12</td>\n    </tr>\n    <tr>\n      <th>Order_Week_of_Month</th>\n      <td>1</td>\n      <td>1</td>\n      <td>6</td>\n      <td>4</td>\n      <td>2</td>\n    </tr>\n    <tr>\n      <th>Time_of_Order</th>\n      <td>9:18:22 AM</td>\n      <td>12:07:04 PM</td>\n      <td>1:20:11 PM</td>\n      <td>11:13:53 AM</td>\n      <td>1:41:02 PM</td>\n    </tr>\n    <tr>\n      <th>Order_Confirm_Day_of_Month</th>\n      <td>27</td>\n      <td>25</td>\n      <td>12</td>\n      <td>28</td>\n      <td>12</td>\n    </tr>\n    <tr>\n      <th>Order_Confirm_Day_of_Weekday</th>\n      <td>1</td>\n      <td>1</td>\n      <td>6</td>\n      <td>4</td>\n      <td>2</td>\n    </tr>\n    <tr>\n      <th>Time_of_Confirmation</th>\n      <td>9:18:42 AM</td>\n      <td>12:08:36 PM</td>\n      <td>1:34:44 PM</td>\n      <td>11:14:07 AM</td>\n      <td>1:41:57 PM</td>\n    </tr>\n    <tr>\n      <th>Arrival_At_Pickup_MonthDay</th>\n      <td>27</td>\n      <td>25</td>\n      <td>12</td>\n      <td>28</td>\n      <td>12</td>\n    </tr>\n    <tr>\n      <th>Arrival_At_Pickup_Weekday</th>\n      <td>1</td>\n      <td>1</td>\n      <td>6</td>\n      <td>4</td>\n      <td>2</td>\n    </tr>\n    <tr>\n      <th>Arrival_at_Pickup_Time</th>\n      <td>9:46:23 AM</td>\n      <td>12:41:16 PM</td>\n      <td>1:54:51 PM</td>\n      <td>11:25:32 AM</td>\n      <td>2:40:49 PM</td>\n    </tr>\n    <tr>\n      <th>Pickup_MonthDay</th>\n      <td>27</td>\n      <td>25</td>\n      <td>12</td>\n      <td>28</td>\n      <td>12</td>\n    </tr>\n    <tr>\n      <th>Pickup_WeekDay</th>\n      <td>1</td>\n      <td>1</td>\n      <td>6</td>\n      <td>4</td>\n      <td>2</td>\n    </tr>\n    <tr>\n      <th>Pickup_Time</th>\n      <td>9:48:02 AM</td>\n      <td>12:45:15 PM</td>\n      <td>1:58:20 PM</td>\n      <td>11:53:20 AM</td>\n      <td>2:45:15 PM</td>\n    </tr>\n    <tr>\n      <th>Delivery_MonthDay</th>\n      <td>27</td>\n      <td>25</td>\n      <td>12</td>\n      <td>28</td>\n      <td>12</td>\n    </tr>\n    <tr>\n      <th>Delivery_Weekday</th>\n      <td>1</td>\n      <td>1</td>\n      <td>6</td>\n      <td>4</td>\n      <td>2</td>\n    </tr>\n    <tr>\n      <th>Delivery_Time</th>\n      <td>10:11:30 AM</td>\n      <td>1:02:09 PM</td>\n      <td>2:20:10 PM</td>\n      <td>11:53:23 AM</td>\n      <td>3:12:49 PM</td>\n    </tr>\n    <tr>\n      <th>DistanceCovered_KM</th>\n      <td>6</td>\n      <td>9</td>\n      <td>9</td>\n      <td>9</td>\n      <td>7</td>\n    </tr>\n    <tr>\n      <th>Temperation</th>\n      <td>20.9</td>\n      <td>29.9</td>\n      <td>28.5</td>\n      <td>26.8</td>\n      <td>30.1</td>\n    </tr>\n    <tr>\n      <th>Precipitation_in_millimeters</th>\n      <td>1.0</td>\n      <td>NaN</td>\n      <td>NaN</td>\n      <td>NaN</td>\n      <td>NaN</td>\n    </tr>\n    <tr>\n      <th>Latitude_Pickup</th>\n      <td>-1.285772</td>\n      <td>-1.229148</td>\n      <td>-1.318062</td>\n      <td>-1.263818</td>\n      <td>-1.263813</td>\n    </tr>\n    <tr>\n      <th>Longitude_Pickup</th>\n      <td>36.808806</td>\n      <td>36.844029</td>\n      <td>36.849326</td>\n      <td>36.793006</td>\n      <td>36.784977</td>\n    </tr>\n    <tr>\n      <th>Latitude_Destination</th>\n      <td>-1.29631</td>\n      <td>-1.252492</td>\n      <td>-1.265715</td>\n      <td>-1.300406</td>\n      <td>-1.294875</td>\n    </tr>\n    <tr>\n      <th>Longitude_Destination</th>\n      <td>36.768822</td>\n      <td>36.86562</td>\n      <td>36.823815</td>\n      <td>36.829741</td>\n      <td>36.793891</td>\n    </tr>\n    <tr>\n      <th>Time_Elapsed_from_Pickup_to_Delivery_in_Min</th>\n      <td>23.47</td>\n      <td>16.9</td>\n      <td>21.83</td>\n      <td>0.05</td>\n      <td>27.57</td>\n    </tr>\n  </tbody>\n</table>\n</div>"
     },
     "metadata": {},
     "execution_count": 3
    }
   ],
   "source": [
    "df.head().T"
   ]
  },
  {
   "source": [
    "### Data Cleaning\n",
    "#### Drop Irrelevant columns"
   ],
   "cell_type": "markdown",
   "metadata": {}
  },
  {
   "cell_type": "code",
   "execution_count": 6,
   "metadata": {},
   "outputs": [
    {
     "output_type": "stream",
     "name": "stdout",
     "text": [
      "(14840, 27)\n"
     ]
    }
   ],
   "source": [
    "print(df.shape)\n",
    "# df.head().T"
   ]
  },
  {
   "cell_type": "code",
   "execution_count": 7,
   "metadata": {},
   "outputs": [
    {
     "output_type": "stream",
     "name": "stdout",
     "text": [
      "['Order_Confirm_Day_of_Month', 'Order_Confirm_Day_of_Weekday', 'Arrival_At_Pickup_MonthDay', 'Arrival_At_Pickup_Weekday', 'Pickup_MonthDay', 'Pickup_WeekDay']\n"
     ]
    }
   ],
   "source": [
    "## Drop duplicated columns\n",
    "combinations = list(itertools.combinations(df.columns,2))\n",
    "remove = []\n",
    "for f1, f2 in combinations:\n",
    "    if(f1 not in remove) & (f2 not in remove):\n",
    "        if df[f1].equals(df[f2]):\n",
    "            remove.append(f1)\n",
    "\n",
    "print(remove)\n",
    "df['dom'] = df['Order_Confirm_Day_of_Month']\n",
    "df['wom'] = df['Order_Confirm_Day_of_Weekday']\n",
    "df.drop(remove, axis=1, inplace=True)"
   ]
  },
  {
   "cell_type": "code",
   "execution_count": 8,
   "metadata": {},
   "outputs": [],
   "source": [
    "## Drop irrelevant and 0 variance columns\n",
    "drp_list = ['User_ID', 'Tranport_Vehicle', 'Latitude_Pickup', 'Longitude_Pickup', 'Latitude_Destination', 'Longitude_Destination']\n",
    "df.drop(columns=drp_list, inplace = True)"
   ]
  },
  {
   "cell_type": "code",
   "execution_count": 9,
   "metadata": {},
   "outputs": [],
   "source": [
    "## fill Missing values\n",
    "df['Temperation'] = df['Temperation'].fillna(round(df['Temperation'].mean(), 1))\n",
    "\n",
    "#-> However on Precipitation, I'm guessing if the record was not collected then it meant it was of low quantity, it did not rain at all. So I will make this into a factor - Raining or not.datetime\n",
    "def cat_rain(value):\n",
    "    if value > 7.9:\n",
    "        return 1 # Raining\n",
    "    else:\n",
    "        return 0 # Not Raining\n",
    "\n",
    "df['Precipitation_in_millimeters_CAT'] = df.apply(lambda df: cat_rain(df['Precipitation_in_millimeters']), axis = 1)\n",
    "df.drop(columns = 'Precipitation_in_millimeters', inplace=True)\n"
   ]
  },
  {
   "cell_type": "code",
   "execution_count": 10,
   "metadata": {},
   "outputs": [
    {
     "output_type": "execute_result",
     "data": {
      "text/plain": [
       "Commercial    12144\n",
       "Personal       2696\n",
       "Name: Purpose, dtype: int64"
      ]
     },
     "metadata": {},
     "execution_count": 10
    }
   ],
   "source": [
    "df['Purpose'].value_counts()"
   ]
  },
  {
   "cell_type": "code",
   "execution_count": 12,
   "metadata": {},
   "outputs": [],
   "source": [
    "lst = ['Time_of_Order', 'Time_of_Confirmation',\t'Arrival_at_Pickup_Time', 'Pickup_Time', 'Delivery_Time']\n",
    "\n",
    "for i in lst:\n",
    "    j = i + '_in_hours'\n",
    "    df[j] = df[i]\n",
    "    df.drop(columns = i, inplace = True)\n",
    "    df[j] = pd.to_datetime(df[j]) \n",
    "    ## corce to hours past midnight\n",
    "    df[j] = df[j].apply(lambda x: round((((x.value -1628122036000000000)/ 10**9)/60),2) )\n"
   ]
  },
  {
   "cell_type": "code",
   "execution_count": 13,
   "metadata": {},
   "outputs": [],
   "source": [
    "from sklearn.preprocessing import LabelEncoder\n",
    "\n",
    "LE = LabelEncoder()\n",
    "df['Purpose_CAT'] = LE.fit_transform(df['Purpose']) \n",
    "df['Platform_CAT'] = LE.fit_transform(df['Platform'])\n",
    "\n",
    "df.drop(columns = ['Purpose', 'Platform'], inplace = True)"
   ]
  },
  {
   "cell_type": "code",
   "execution_count": 14,
   "metadata": {},
   "outputs": [],
   "source": [
    "new_Columns_list = ['Order_Day_of_Month', 'Order_Week_of_Month', 'Delivery_MonthDay',\n",
    "       'Delivery_Weekday', 'DistanceCovered_KM', 'Temperation',\n",
    "       'Precipitation_in_millimeters_CAT', 'Time_of_Order_in_hours',\n",
    "       'Time_of_Confirmation_in_hours', 'Arrival_at_Pickup_Time_in_hours',\n",
    "       'Pickup_Time_in_hours', 'Delivery_Time_in_hours', 'Purpose_CAT',\n",
    "       'Platform_CAT',\n",
    "       'Time_Elapsed_from_Pickup_to_Delivery_in_Min']\n",
    "\n",
    "df = df[new_Columns_list]"
   ]
  },
  {
   "cell_type": "code",
   "execution_count": 15,
   "metadata": {},
   "outputs": [
    {
     "output_type": "execute_result",
     "data": {
      "text/plain": [
       "                                                   0        1        2  \\\n",
       "Order_Day_of_Month                             27.00    25.00    12.00   \n",
       "Order_Week_of_Month                             1.00     1.00     6.00   \n",
       "Delivery_MonthDay                              27.00    25.00    12.00   \n",
       "Delivery_Weekday                                1.00     1.00     6.00   \n",
       "DistanceCovered_KM                              6.00     9.00     9.00   \n",
       "Temperation                                    20.90    29.90    28.50   \n",
       "Precipitation_in_millimeters_CAT                0.00     0.00     0.00   \n",
       "Time_of_Order_in_hours                       1991.10  2159.80  2232.92   \n",
       "Time_of_Confirmation_in_hours                1991.43  2161.33  2247.47   \n",
       "Arrival_at_Pickup_Time_in_hours              2019.12  2194.00  2267.58   \n",
       "Pickup_Time_in_hours                         2020.77  2197.98  2271.07   \n",
       "Delivery_Time_in_hours                       2044.23  2214.88  2292.90   \n",
       "Purpose_CAT                                     0.00     0.00     0.00   \n",
       "Platform_CAT                                    2.00     2.00     2.00   \n",
       "Time_Elapsed_from_Pickup_to_Delivery_in_Min    23.47    16.90    21.83   \n",
       "\n",
       "                                                   3        4  \n",
       "Order_Day_of_Month                             28.00    12.00  \n",
       "Order_Week_of_Month                             4.00     2.00  \n",
       "Delivery_MonthDay                              28.00    12.00  \n",
       "Delivery_Weekday                                4.00     2.00  \n",
       "DistanceCovered_KM                              9.00     7.00  \n",
       "Temperation                                    26.80    30.10  \n",
       "Precipitation_in_millimeters_CAT                0.00     0.00  \n",
       "Time_of_Order_in_hours                       2106.62  2253.77  \n",
       "Time_of_Confirmation_in_hours                2106.85  2254.68  \n",
       "Arrival_at_Pickup_Time_in_hours              2118.27  2313.55  \n",
       "Pickup_Time_in_hours                         2146.07  2317.98  \n",
       "Delivery_Time_in_hours                       2146.12  2345.55  \n",
       "Purpose_CAT                                     0.00     0.00  \n",
       "Platform_CAT                                    2.00     2.00  \n",
       "Time_Elapsed_from_Pickup_to_Delivery_in_Min     0.05    27.57  "
      ],
      "text/html": "<div>\n<style scoped>\n    .dataframe tbody tr th:only-of-type {\n        vertical-align: middle;\n    }\n\n    .dataframe tbody tr th {\n        vertical-align: top;\n    }\n\n    .dataframe thead th {\n        text-align: right;\n    }\n</style>\n<table border=\"1\" class=\"dataframe\">\n  <thead>\n    <tr style=\"text-align: right;\">\n      <th></th>\n      <th>0</th>\n      <th>1</th>\n      <th>2</th>\n      <th>3</th>\n      <th>4</th>\n    </tr>\n  </thead>\n  <tbody>\n    <tr>\n      <th>Order_Day_of_Month</th>\n      <td>27.00</td>\n      <td>25.00</td>\n      <td>12.00</td>\n      <td>28.00</td>\n      <td>12.00</td>\n    </tr>\n    <tr>\n      <th>Order_Week_of_Month</th>\n      <td>1.00</td>\n      <td>1.00</td>\n      <td>6.00</td>\n      <td>4.00</td>\n      <td>2.00</td>\n    </tr>\n    <tr>\n      <th>Delivery_MonthDay</th>\n      <td>27.00</td>\n      <td>25.00</td>\n      <td>12.00</td>\n      <td>28.00</td>\n      <td>12.00</td>\n    </tr>\n    <tr>\n      <th>Delivery_Weekday</th>\n      <td>1.00</td>\n      <td>1.00</td>\n      <td>6.00</td>\n      <td>4.00</td>\n      <td>2.00</td>\n    </tr>\n    <tr>\n      <th>DistanceCovered_KM</th>\n      <td>6.00</td>\n      <td>9.00</td>\n      <td>9.00</td>\n      <td>9.00</td>\n      <td>7.00</td>\n    </tr>\n    <tr>\n      <th>Temperation</th>\n      <td>20.90</td>\n      <td>29.90</td>\n      <td>28.50</td>\n      <td>26.80</td>\n      <td>30.10</td>\n    </tr>\n    <tr>\n      <th>Precipitation_in_millimeters_CAT</th>\n      <td>0.00</td>\n      <td>0.00</td>\n      <td>0.00</td>\n      <td>0.00</td>\n      <td>0.00</td>\n    </tr>\n    <tr>\n      <th>Time_of_Order_in_hours</th>\n      <td>1991.10</td>\n      <td>2159.80</td>\n      <td>2232.92</td>\n      <td>2106.62</td>\n      <td>2253.77</td>\n    </tr>\n    <tr>\n      <th>Time_of_Confirmation_in_hours</th>\n      <td>1991.43</td>\n      <td>2161.33</td>\n      <td>2247.47</td>\n      <td>2106.85</td>\n      <td>2254.68</td>\n    </tr>\n    <tr>\n      <th>Arrival_at_Pickup_Time_in_hours</th>\n      <td>2019.12</td>\n      <td>2194.00</td>\n      <td>2267.58</td>\n      <td>2118.27</td>\n      <td>2313.55</td>\n    </tr>\n    <tr>\n      <th>Pickup_Time_in_hours</th>\n      <td>2020.77</td>\n      <td>2197.98</td>\n      <td>2271.07</td>\n      <td>2146.07</td>\n      <td>2317.98</td>\n    </tr>\n    <tr>\n      <th>Delivery_Time_in_hours</th>\n      <td>2044.23</td>\n      <td>2214.88</td>\n      <td>2292.90</td>\n      <td>2146.12</td>\n      <td>2345.55</td>\n    </tr>\n    <tr>\n      <th>Purpose_CAT</th>\n      <td>0.00</td>\n      <td>0.00</td>\n      <td>0.00</td>\n      <td>0.00</td>\n      <td>0.00</td>\n    </tr>\n    <tr>\n      <th>Platform_CAT</th>\n      <td>2.00</td>\n      <td>2.00</td>\n      <td>2.00</td>\n      <td>2.00</td>\n      <td>2.00</td>\n    </tr>\n    <tr>\n      <th>Time_Elapsed_from_Pickup_to_Delivery_in_Min</th>\n      <td>23.47</td>\n      <td>16.90</td>\n      <td>21.83</td>\n      <td>0.05</td>\n      <td>27.57</td>\n    </tr>\n  </tbody>\n</table>\n</div>"
     },
     "metadata": {},
     "execution_count": 15
    }
   ],
   "source": [
    "df.head().T"
   ]
  },
  {
   "source": [
    "## Build Model"
   ],
   "cell_type": "markdown",
   "metadata": {}
  },
  {
   "cell_type": "code",
   "execution_count": 16,
   "metadata": {},
   "outputs": [],
   "source": [
    "## Import Libraries\n",
    "\n",
    "from sklearn.model_selection import train_test_split, cross_val_score, KFold, GridSearchCV\n",
    "from sklearn.metrics import r2_score, mean_squared_error, mean_squared_log_error\n",
    "from sklearn.preprocessing import StandardScaler\n",
    "from sklearn.linear_model import LinearRegression, Ridge\n",
    "from sklearn.ensemble import RandomForestRegressor, GradientBoostingRegressor"
   ]
  },
  {
   "cell_type": "code",
   "execution_count": 17,
   "metadata": {},
   "outputs": [
    {
     "output_type": "stream",
     "name": "stdout",
     "text": [
      "Size of x_train =  (11130, 14)\nSize of x_test  =  (3710, 14)\nSize of y_train =  (11130,)\nSize of y_test  =  (3710,)\n"
     ]
    }
   ],
   "source": [
    "X = df.drop(columns='Time_Elapsed_from_Pickup_to_Delivery_in_Min').values\n",
    "y = df['Time_Elapsed_from_Pickup_to_Delivery_in_Min'].values\n",
    "\n",
    "X_train, X_test, y_train, y_test = train_test_split(X, y,\n",
    "                                                    test_size=0.25,\n",
    "                                                    random_state=10)\n",
    "\n",
    "print('Size of x_train = ', X_train.shape)\n",
    "print('Size of x_test  = ', X_test.shape)\n",
    "print('Size of y_train = ', y_train.shape)\n",
    "print('Size of y_test  = ', y_test.shape)"
   ]
  },
  {
   "cell_type": "code",
   "execution_count": 18,
   "metadata": {},
   "outputs": [],
   "source": [
    "## Normalizing: Feature Scaling\n",
    "sc = StandardScaler()\n",
    "\n",
    "X_train = sc.fit_transform(X_train)\n",
    "X_test = sc.transform(X_test)"
   ]
  },
  {
   "cell_type": "code",
   "execution_count": 19,
   "metadata": {},
   "outputs": [],
   "source": [
    "## Model Selection \n",
    "# -> To save computing time two models thatdid not perform well were commented \n",
    "\n",
    "models = []\n",
    "models.append(('LR', LinearRegression()))\n",
    "# models.append(('RF', RandomForestRegressor())) \n",
    "models.append(('RDG', Ridge()))\n",
    "# models.append(('GBR', GradientBoostingRegressor()))"
   ]
  },
  {
   "source": [
    "Due to the numeric structure of our data the accuracy would be evaluated using the __Root Mean Squared Error__ [RMSE] which produces the standard deviation of Predicted values from the Auctual Values, basically the lower this score the better."
   ],
   "cell_type": "markdown",
   "metadata": {}
  },
  {
   "cell_type": "code",
   "execution_count": 20,
   "metadata": {},
   "outputs": [
    {
     "output_type": "stream",
     "name": "stdout",
     "text": [
      "\n",
      "[0.99999992 0.99999992 0.99999991 0.99999992 0.99999992 0.99999991\n",
      " 0.99999992]\n",
      "\n",
      "LR:R2 1.0 - RMSE 0.004719740406735618\n",
      "\n",
      "[0.99999992 0.99999992 0.99999991 0.99999992 0.99999992 0.99999991\n",
      " 0.99999992]\n",
      "\n",
      "RDG:R2 1.0 - RMSE 0.3079498416861402\n"
     ]
    }
   ],
   "source": [
    "## Model Evaluation\n",
    "results = []\n",
    "names = []\n",
    "for name, model in models:\n",
    "    fit_model = model.fit(X_train, y_train)\n",
    "    y_pred = fit_model.predict(X_test)\n",
    "\n",
    "    r2 = r2_score(y_test, y_pred)\n",
    "    mse = mean_squared_error(y_test, y_pred)\n",
    "    rmse = np.sqrt(mse)\n",
    "\n",
    "    ## Cross Validation\n",
    "    cv = cross_val_score(model, X, y, cv=7)\n",
    "\n",
    "    results.append((r2_score, rmse))\n",
    "    names.append(name)\n",
    "    print()\n",
    "    print(cv)\n",
    "    print()\n",
    "    print('{}:R2 {} - RMSE {}'.format(name, round(r2, 3), rmse))\n"
   ]
  },
  {
   "cell_type": "code",
   "execution_count": 21,
   "metadata": {
    "tags": []
   },
   "outputs": [
    {
     "output_type": "execute_result",
     "data": {
      "text/plain": [
       "GridSearchCV(estimator=Ridge(),\n",
       "             param_grid={'alpha': [3, 2, 1.5, 1, 0.75],\n",
       "                         'max_iter': [500, 3000, 1000],\n",
       "                         'normalize': [True, False],\n",
       "                         'solver': ['auto', 'svd', 'cholesky', 'lsqr',\n",
       "                                    'sparse_cg', 'sag', 'saga'],\n",
       "                         'tol': [3, 2, 1.5, 1, 0.75]})"
      ]
     },
     "metadata": {},
     "execution_count": 21
    }
   ],
   "source": [
    "### Hyper Parameter Tuning\n",
    "from sklearn.model_selection import GridSearchCV\n",
    "\n",
    "param_grid = {\n",
    "    'alpha': [3, 2, 1.5, 1, .75],\n",
    "    'normalize': [True, False],\n",
    "    'max_iter': [500, 3000, 1000],\n",
    "    'tol': [3, 2, 1.5, 1, .75],\n",
    "    'solver' : ['auto', 'svd', 'cholesky', 'lsqr', 'sparse_cg', 'sag', 'saga']\n",
    "}\n",
    "\n",
    "RDG = Ridge()\n",
    "RDG_cv = GridSearchCV(estimator=RDG, param_grid=param_grid, verbose=0)\n",
    "RDG_cv.fit(X_train, y_train)\n"
   ]
  },
  {
   "cell_type": "code",
   "execution_count": 22,
   "metadata": {},
   "outputs": [
    {
     "output_type": "stream",
     "name": "stdout",
     "text": [
      "{'alpha': 0.75, 'max_iter': 500, 'normalize': False, 'solver': 'svd', 'tol': 3}\n"
     ]
    }
   ],
   "source": [
    "RDG_params = RDG_cv.best_params_\n",
    "print(RDG_params)"
   ]
  },
  {
   "source": [
    "## Model Evaluation"
   ],
   "cell_type": "markdown",
   "metadata": {}
  },
  {
   "cell_type": "code",
   "execution_count": 23,
   "metadata": {},
   "outputs": [],
   "source": [
    "## Model Evaluation Function\n",
    "def evaluate_model(model, X_test, y_test, modelName, DataImb):\n",
    "    print('------------------------------------------------')\n",
    "    print(\"Model \", modelName, end=\"\\n\")\n",
    "    print(\"Data Balancing Type \", DataImb)\n",
    "    ### Model must be ran outside the function\n",
    "    y_pred = model.predict(X_test)\n",
    "    r2 = r2_score(y_test, y_pred)\n",
    "    mse = mean_squared_error(y_test, y_pred)\n",
    "    rmse = np.sqrt(mse)\n",
    "    print(\"R2 Score\", r2)\n",
    "    print(\"RMSE\", rmse)\n",
    "    return[modelName, DataImb, r2, rmse]"
   ]
  },
  {
   "cell_type": "code",
   "execution_count": 24,
   "metadata": {},
   "outputs": [
    {
     "output_type": "stream",
     "name": "stdout",
     "text": [
      "------------------------------------------------\nModel  Ridge\nData Balancing Type  Auctual Data\nR2 Score 0.9997809926347809\nRMSE 0.23259080092227752\n"
     ]
    },
    {
     "output_type": "execute_result",
     "data": {
      "text/plain": [
       "['Ridge', 'Auctual Data', 0.9997809926347809, 0.23259080092227752]"
      ]
     },
     "metadata": {},
     "execution_count": 24
    }
   ],
   "source": [
    "# model = Ridge(alpha = RDG_params['alpha'],\n",
    "#                 max_iter = RDG_params['max_iter'],\n",
    "#                 normalize = RDG_params['normalize'],\n",
    "#                 solver = RDG_params['solver'],\n",
    "#                 tol = RDG_params['tol'])\n",
    "\n",
    "# #-> Fitting Model\n",
    "# model.fit(X_train, y_train)\n",
    "# #=> Evaluate Model\n",
    "# evaluate_model(model, X_test, y_test, 'Tuned Ridge', \"Auctual Data\")\n"
   ]
  },
  {
   "cell_type": "code",
   "execution_count": 25,
   "metadata": {},
   "outputs": [
    {
     "output_type": "stream",
     "name": "stdout",
     "text": [
      "------------------------------------------------\nModel  Ridge Regressor\nData Balancing Type  Auctual Data\nR2 Score 0.9996160862892679\nRMSE 0.3079498416861402\n"
     ]
    },
    {
     "output_type": "execute_result",
     "data": {
      "text/plain": [
       "['Ridge Regressor', 'Auctual Data', 0.9996160862892679, 0.3079498416861402]"
      ]
     },
     "metadata": {},
     "execution_count": 25
    }
   ],
   "source": [
    "# model_2 = Ridge()\n",
    "# model_2.fit(X_train, y_train)\n",
    "# evaluate_model(model_2, X_test, y_test, 'Ordinary Ridge Regressor', \"Auctual Data\")"
   ]
  },
  {
   "cell_type": "code",
   "execution_count": 26,
   "metadata": {},
   "outputs": [
    {
     "output_type": "stream",
     "name": "stdout",
     "text": [
      "Fitting 5 folds for each of 32 candidates, totalling 160 fits\n"
     ]
    },
    {
     "output_type": "execute_result",
     "data": {
      "text/plain": [
       "GridSearchCV(estimator=LinearRegression(),\n",
       "             param_grid={'copy_X': [True, False],\n",
       "                         'fit_intercept': [True, False],\n",
       "                         'n_jobs': [True, False], 'normalize': [True, False],\n",
       "                         'positive': [True, False]},\n",
       "             verbose=1)"
      ]
     },
     "metadata": {},
     "execution_count": 26
    }
   ],
   "source": [
    "param_grid = {\n",
    "    'fit_intercept': [True, False],\n",
    "    'normalize': [True, False],\n",
    "    'copy_X': [True, False],\n",
    "    'n_jobs': [True, False],\n",
    "    'positive': [True, False]\n",
    "}\n",
    "\n",
    "LR = LinearRegression()\n",
    "LR_cv = GridSearchCV(estimator=LR, param_grid=param_grid, verbose=1)\n",
    "LR_cv.fit(X_train, y_train)"
   ]
  },
  {
   "cell_type": "code",
   "execution_count": 27,
   "metadata": {},
   "outputs": [
    {
     "output_type": "stream",
     "name": "stdout",
     "text": [
      "{'copy_X': True, 'fit_intercept': True, 'n_jobs': True, 'normalize': False, 'positive': False}\n------------------------------------------------\nModel  Linear Regressor\nData Balancing Type  Auctual Data\nR2 Score 0.9999999098200736\nRMSE 0.004719740406735618\n"
     ]
    },
    {
     "output_type": "execute_result",
     "data": {
      "text/plain": [
       "['Linear Regressor', 'Auctual Data', 0.9999999098200736, 0.004719740406735618]"
      ]
     },
     "metadata": {},
     "execution_count": 27
    }
   ],
   "source": [
    "LR_params = LR_cv.best_params_\n",
    "print(LR_params)\n",
    "\n",
    "### Pipeline\n",
    "# from sklearn.pipeline import make_pipeline\n",
    "LR_model = LinearRegression(fit_intercept = LR_params['fit_intercept'],\n",
    "                            normalize = LR_params['normalize'],\n",
    "                            copy_X = LR_params['copy_X'],\n",
    "                            n_jobs = LR_params['n_jobs'],\n",
    "                            positive = LR_params['positive'])\n",
    "#=> Fitting Model\n",
    "LR_model.fit(X_train, y_train)\n",
    "#=> Evaluate Model\n",
    "evaluate_model(LR_model, X_test, y_test, 'Tuned_Linear Regressor', \"Auctual Data\")"
   ]
  },
  {
   "cell_type": "code",
   "execution_count": 28,
   "metadata": {},
   "outputs": [
    {
     "output_type": "stream",
     "name": "stdout",
     "text": [
      "------------------------------------------------\nModel  LR\nData Balancing Type  Auctual Data\nR2 Score 0.9999999098200736\nRMSE 0.004719740406735618\n"
     ]
    },
    {
     "output_type": "execute_result",
     "data": {
      "text/plain": [
       "['LR', 'Auctual Data', 0.9999999098200736, 0.004719740406735618]"
      ]
     },
     "metadata": {},
     "execution_count": 28
    }
   ],
   "source": [
    "model_4 = LinearRegression()\n",
    "model_4.fit(X_train, y_train)\n",
    "evaluate_model(model_4, X_test, y_test, 'ORDINARY_LR', \"Auctual Data\")"
   ]
  },
  {
   "source": [
    "The result from Linear and Ridge Regression are astounding, let's see how they can be ensembled."
   ],
   "cell_type": "markdown",
   "metadata": {}
  },
  {
   "source": [
    "I have tuned and ensembled several models - the tuned Simple Linear Regression performs best. \n",
    "\n",
    "Now the model would be saved/pickled for reference"
   ],
   "cell_type": "markdown",
   "metadata": {}
  },
  {
   "cell_type": "code",
   "execution_count": 29,
   "metadata": {},
   "outputs": [],
   "source": [
    "#=> Save/Pickle Model\n",
    "import pickle\n",
    "\n",
    "model_name = \"model.pk_dsn_0805\"\n",
    "pickle.dump(model, open(model_name, \"wb\"))"
   ]
  },
  {
   "source": [
    "## Prepping Submission Work\n",
    "1. Checking the model's accuracy on the validation/test set\n",
    "1. Saving the result for submission"
   ],
   "cell_type": "markdown",
   "metadata": {}
  },
  {
   "cell_type": "code",
   "execution_count": 36,
   "metadata": {},
   "outputs": [],
   "source": [
    "## Validation\n",
    "\n",
    "df_2 = pd.read_csv(\"bikerslogistics/test.csv\")\n",
    "\n",
    "data_id = df_2['User_ID']\n",
    "\n",
    "## Functions\n",
    "def cat_rain(value):\n",
    "    if value > 7.9:\n",
    "        return 1 # Raining\n",
    "    else:\n",
    "        return 0 # Not Raining\n",
    "\n",
    "df_2['Precipitation_in_millimeters_CAT'] = df_2.apply(lambda df_2: cat_rain(df_2['Precipitation_in_millimeters']), axis=1)\n",
    "df_2.drop(columns = 'Precipitation_in_millimeters', inplace = True)\n",
    "\n",
    "def data_preproc(df_2):\n",
    "    df_2['Temperation'] = df_2['Temperation'].fillna(round(df_2['Temperation'].mean(), 1))\n",
    "\n",
    "    lst = ['Time_of_Order', 'Time_of_Confirmation',\t'Arrival_at_Pickup_Time', 'Pickup_Time', 'Delivery_Time']\n",
    "\n",
    "    for i in lst:\n",
    "        j = i + '_in_hours'\n",
    "        df_2[j] = df_2[i]\n",
    "        df_2.drop(columns = i, inplace = True)\n",
    "        df_2[j] = pd.to_datetime(df_2[j]) \n",
    "        ## corce to hours past midnight\n",
    "        df_2[j] = df_2[j].apply(lambda x: round((((x.value -1628122036000000000)/ 10**9)/3600),2) )\n",
    "\n",
    "    LE = LabelEncoder()\n",
    "    df_2['Purpose_CAT'] = LE.fit_transform(df_2['Purpose'])\n",
    "    df_2['Platform_CAT'] = LE.fit_transform(df_2['Platform'])\n",
    "\n",
    "\n",
    "    drp_list = ['User_ID', 'Tranport_Vehicle',\n",
    "                    'Latitude_Pickup', 'Longitude_Pickup',\n",
    "                    'Latitude_Destination', 'Longitude_Destination',\n",
    "                    'Order_Confirm_Day_of_Month', 'Order_Confirm_Day_of_Weekday',\n",
    "                    'Arrival_At_Pickup_MonthDay', 'Arrival_At_Pickup_Weekday',\n",
    "                    'Pickup_MonthDay', 'Pickup_WeekDay',\n",
    "                    'Purpose', 'Platform']\n",
    "\n",
    "\n",
    "    new_Columns_list = ['Order_Day_of_Month', 'Order_Week_of_Month', 'Delivery_MonthDay',\n",
    "                            'Delivery_Weekday', 'DistanceCovered_KM', 'Temperation',\n",
    "                            'Precipitation_in_millimeters_CAT', 'Time_of_Order_in_hours',\n",
    "                            'Time_of_Confirmation_in_hours', 'Arrival_at_Pickup_Time_in_hours',\n",
    "                            'Pickup_Time_in_hours', 'Delivery_Time_in_hours', 'Purpose_CAT',\n",
    "                            'Platform_CAT']\n",
    "\n",
    "\n",
    "    df_2.drop(columns=drp_list, inplace=True)\n",
    "\n",
    "    df_2 = df_2[new_Columns_list]\n",
    "\n",
    "data_preproc(df_2)"
   ]
  },
  {
   "cell_type": "code",
   "execution_count": 37,
   "metadata": {},
   "outputs": [],
   "source": [
    "sc = StandardScaler()\n",
    "df_2 = sc.fit_transform(df_2)"
   ]
  },
  {
   "cell_type": "code",
   "execution_count": 38,
   "metadata": {},
   "outputs": [],
   "source": [
    "predict = LR_model.predict(df_2)"
   ]
  },
  {
   "cell_type": "code",
   "execution_count": 39,
   "metadata": {},
   "outputs": [
    {
     "output_type": "execute_result",
     "data": {
      "text/plain": [
       "            User_ID  Time_Elapsed_from_Pickup_to_Delivery_in_Min\n",
       "0   UserLogger_6224                                        35.05\n",
       "1  UserLogger_16205                                        28.98\n",
       "2  UserLogger_17099                                         0.28\n",
       "3   UserLogger_9892                                        56.37\n",
       "4   UserLogger_8487                                        15.62"
      ],
      "text/html": "<div>\n<style scoped>\n    .dataframe tbody tr th:only-of-type {\n        vertical-align: middle;\n    }\n\n    .dataframe tbody tr th {\n        vertical-align: top;\n    }\n\n    .dataframe thead th {\n        text-align: right;\n    }\n</style>\n<table border=\"1\" class=\"dataframe\">\n  <thead>\n    <tr style=\"text-align: right;\">\n      <th></th>\n      <th>User_ID</th>\n      <th>Time_Elapsed_from_Pickup_to_Delivery_in_Min</th>\n    </tr>\n  </thead>\n  <tbody>\n    <tr>\n      <th>0</th>\n      <td>UserLogger_6224</td>\n      <td>35.05</td>\n    </tr>\n    <tr>\n      <th>1</th>\n      <td>UserLogger_16205</td>\n      <td>28.98</td>\n    </tr>\n    <tr>\n      <th>2</th>\n      <td>UserLogger_17099</td>\n      <td>0.28</td>\n    </tr>\n    <tr>\n      <th>3</th>\n      <td>UserLogger_9892</td>\n      <td>56.37</td>\n    </tr>\n    <tr>\n      <th>4</th>\n      <td>UserLogger_8487</td>\n      <td>15.62</td>\n    </tr>\n  </tbody>\n</table>\n</div>"
     },
     "metadata": {},
     "execution_count": 39
    }
   ],
   "source": [
    "index_list = []\n",
    "for i in data_id:\n",
    "    index_list.append(i)\n",
    "\n",
    "submission_dta = pd.DataFrame(list(zip(index_list, predict)), columns = ['User_ID','Time_Elapsed_from_Pickup_to_Delivery_in_Min'])\n",
    "\n",
    "submission_dta['Time_Elapsed_from_Pickup_to_Delivery_in_Min'] = round(submission_dta['Time_Elapsed_from_Pickup_to_Delivery_in_Min'], 2)\n",
    "\n",
    "submission_dta.head()"
   ]
  },
  {
   "cell_type": "code",
   "execution_count": 40,
   "metadata": {},
   "outputs": [],
   "source": [
    "submission_dta.to_csv(\"submission/submission_AMAH_AD.csv\", index=False)"
   ]
  },
  {
   "cell_type": "code",
   "execution_count": 41,
   "metadata": {},
   "outputs": [
    {
     "output_type": "execute_result",
     "data": {
      "text/plain": [
       "            User_ID  Time_Elapsed_from_Pickup_to_Delivery_in_Min\n",
       "0   UserLogger_6224                                        35.05\n",
       "1  UserLogger_16205                                        28.98\n",
       "2  UserLogger_17099                                         0.28\n",
       "3   UserLogger_9892                                        56.37\n",
       "4   UserLogger_8487                                        15.62"
      ],
      "text/html": "<div>\n<style scoped>\n    .dataframe tbody tr th:only-of-type {\n        vertical-align: middle;\n    }\n\n    .dataframe tbody tr th {\n        vertical-align: top;\n    }\n\n    .dataframe thead th {\n        text-align: right;\n    }\n</style>\n<table border=\"1\" class=\"dataframe\">\n  <thead>\n    <tr style=\"text-align: right;\">\n      <th></th>\n      <th>User_ID</th>\n      <th>Time_Elapsed_from_Pickup_to_Delivery_in_Min</th>\n    </tr>\n  </thead>\n  <tbody>\n    <tr>\n      <th>0</th>\n      <td>UserLogger_6224</td>\n      <td>35.05</td>\n    </tr>\n    <tr>\n      <th>1</th>\n      <td>UserLogger_16205</td>\n      <td>28.98</td>\n    </tr>\n    <tr>\n      <th>2</th>\n      <td>UserLogger_17099</td>\n      <td>0.28</td>\n    </tr>\n    <tr>\n      <th>3</th>\n      <td>UserLogger_9892</td>\n      <td>56.37</td>\n    </tr>\n    <tr>\n      <th>4</th>\n      <td>UserLogger_8487</td>\n      <td>15.62</td>\n    </tr>\n  </tbody>\n</table>\n</div>"
     },
     "metadata": {},
     "execution_count": 41
    }
   ],
   "source": [
    "submission_dta.head()"
   ]
  },
  {
   "cell_type": "code",
   "execution_count": 42,
   "metadata": {},
   "outputs": [
    {
     "output_type": "execute_result",
     "data": {
      "text/plain": [
       "(6361, 2)"
      ]
     },
     "metadata": {},
     "execution_count": 42
    }
   ],
   "source": [
    "submission_dta.shape"
   ]
  },
  {
   "cell_type": "code",
   "execution_count": null,
   "metadata": {},
   "outputs": [],
   "source": [
    "## COMPLIMENTARY\n",
    "\n",
    "This work has been productionize and a real-time application can be found on this [webApp](https://delivery-stuber-dsn.herokuapp.com/)"
   ]
  }
 ]
}